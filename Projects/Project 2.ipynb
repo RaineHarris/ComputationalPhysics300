{
 "cells": [
  {
   "cell_type": "markdown",
   "id": "f5f2c500-d278-4aca-b81c-ee93f3ce94dd",
   "metadata": {},
   "source": [
    "# Gaussian Quadrature Project\n",
    "## What is Gaussian Quadrature?\n",
    "In order to understand Gaussian Quadrature let us first understand what quadrature rule is. **Quadrature rule** is an approximation of the definite integral of a function given by: \n",
    "\n",
    "$\\begin{equation} \\int_{b}^a F(s)ds = \\sum_{j = 1}^{n + 1}w_jF(s_j) + E(F) \\end{equation},$\n",
    "\n",
    "where $w_j$ are coeffecients, $s_j$ are quadrature points (also known as nodes), and E(F) is an error term that equals 0 if F(x) is a polynomial of degree $\\leq n$, where n is the number of points being evaluated. Now **Gaussian Quadrature** is a quadrature rule used to obtained the exact result for polynomials of a degree 2n - 1 or less. Gaussian quadrature uses the function values evaluated at a number of interior points and corresponding weights to approximate the integral by a weighted sum. Hence, Gaussian quadrature is summed up in the following equation:\n",
    "\n",
    "$\\begin{equation} \\int_{-1}^{1}f(x)dx = \\sum_{j = 0}^{n - 1}w_jf(x_j) \\end{equation}$.\n",
    "\n",
    "This equation is known as the Gauss-Legendre rule. The importance of Gaussian quadrature as compared to other techniques such as the Simpson's rule is the difference in level of accuracy. The Simpson's rule, given 3 points, will evaluate the integral to an order of accuracy of 3, while given less points, Gaussian quadrature will evaluate the same integral with a higher order of accuracy. \n",
    "\n",
    "A key factor of Gaussian qaudrature is that it deals with integratation over a symmetrical range of x from -1 to 1, as shown in the equation above. There is a linear transformation that can be performed to adjust the limit of the integration given any limit of x = a and x = b: \n",
    "\n",
    "$\\begin{equation} I = \\int_a^b f(x)dx = \\frac{b - a}{2}\\int_{-1}^{1} f(\\frac{b - a}{2}\\epsilon + \\frac{a + b}{2})d\\epsilon \\end{equation}$.\n",
    "\n",
    "This allows all points being evaluated for the integration of a function to be within the interval [-1,1]. \n",
    "\n",
    "\n",
    "\n"
   ]
  },
  {
   "cell_type": "markdown",
   "id": "c6658353-9580-4a60-a1ee-cebddf3eebcb",
   "metadata": {},
   "source": [
    "## Mathematical Analysis of Gaussian Quadrature\n",
    "Given the Gauss-Legendre rule:\n",
    "\n",
    "$\\begin{equation} \\int_{a}^{b}f(x)dx = \\sum_{j = 0}^{n - 1}w_jf(x_j) \\end{equation}$,\n",
    "\n",
    "where,\n",
    "\n",
    "$\\begin{equation} s_j = \\frac{a + b + (b - a)\\epsilon_j}{2} \\end{equation}$, $w_j = \\frac{b - a}{(1 - \\epsilon_j)^2[P_n'()\\epsilon_j]}$,\n",
    "\n",
    "$\\epsilon_j$ are the Gauss points for an interval [-1,1] which are the zeros for the legendre polynomial denoted as $P_n(x)$ in the same interval. This rule can be transformed into the interval [-1,1] as follows: \n",
    "\n",
    "$\\begin{equation} \\int_{-1}^{1}F(s)ds = \\sum_{j = 1}^{n}w_jf(s_j) \\end{equation}$,\n",
    "\n",
    "with $w_j$ as the weights and $x_j$ as the zeros of $P_n(x)$ such that\n",
    "\n",
    "$\\begin{equation} w_j = \\frac{1}{P'_n(x_j}\\int_{-1}^{1}\\frac{P_n(x)}{x - x_j}dx \\end{equation}$.\n",
    "\n",
    "$P_n$ is defined as the **Legendre Polynomial** and its equation is \n",
    "\n",
    "$\\begin{equation} P_n(x) = \\frac{1}{2^nn!}\\frac{d^n}{dx_n}[(x^2 - 1)^n] \\end{equation}$,\n",
    "\n",
    "alternatively, $P_n$ may be determined by the following:\n",
    "\n",
    "$\\begin{equation} P_n(x) = 2^n \\sum_{i=0}^n {n \\choose i}{(n + i - 1)/2 \\choose n}x^j \\end{equation}$,\n",
    "\n",
    "where ${n \\choose i}$ is equal to $^nC_i$ = $\\frac{n!}{(n - 1)!j!}$.\n",
    "\n",
    "As a result of the Legendre polynomial, Gaussian quadrature is also referred to as Gauss-Legendre Quadrature. There are other forms of Gaussian quadrature, such as Chebyshev-Gauss, Gauss-Laguerre, and Gauss-Hermite which are all designed to solve a particular type of integrals; however, this project will be focusing on the Gauss-Legendre method of solving integrals.\n",
    "\n",
    "\n"
   ]
  },
  {
   "cell_type": "markdown",
   "id": "05faf01d-0277-422b-9e1f-7518c238d495",
   "metadata": {},
   "source": [
    "## Gaussian Quadrature: How to Setup Code"
   ]
  },
  {
   "cell_type": "markdown",
   "id": "8debf5b1-20dd-4718-8f99-c08a2257613d",
   "metadata": {},
   "source": [
    "Knowing what we now know about the Gauss-Legendre quadrature rule, the equations and general recipe of the rule are present to begin coding; however, there are innate issues and complications that arise from doing it this way. Generally, for any given n, the respective Legendre Polynomials and weights are not as simply coded from their direct equations (at least for someone of my skill level). This gives way to a brute force method of coding the Gauss-Legendre quadrature rule and this is by implementing the known values of the Legendre polynommials, the weights, and the abscissae (or x values). There are tables able to be found online and for the following example, the weights and abscissae were found on pomax.github.io:\n",
    "\n",
    "### n=2                       \n",
    "$w_1 = 1, x_1 = -0.5773502691896257$\n",
    "\n",
    "$w_2 = 2, x_2 = 0.5773502691896257$\n",
    "\n",
    "### n=3\n",
    "$w_1 = 0.8888888888888888, x_1 = 0$\n",
    "\n",
    "$w_2 = 0.5555555555555556, x_2 = -0.7745966692414834$\n",
    "\n",
    "$w_3 = 0.5555555555555556, x_3 = 0.7745966692414834$\n",
    "\n",
    "### n=4\n",
    "$w_1 = 0.6521451548625461, x_1 = -0.3399810435848563$\n",
    "\n",
    "$w_2 = 0.6521451548625461, x_2 = 0.3399810435848563$\n",
    "\n",
    "$w_3 = 0.3478548451374538, x_3 = -0.8611363115940526$\n",
    "\n",
    "$w_4 = 0.3478548451374538, x_4 = 0.8611363115940526 $\n",
    "\n",
    "the higher the order, the more accurate the approximation is using the Gauss-Legendre rule. This list expands to infinity but for the purposes of this project, these values will be used to show the accuracy of the Gauss-Legendre rule up to the 4th polynomial order.\n",
    "\n",
    "In addition, the Legendre polynomials are used to find the weights at each order. To serve as an example, I will show the first 6 Legendre polynomials (Wolfram Alpha):\n",
    "\n",
    "$P_0 = 1$\n",
    "\n",
    "$P_1 = x$\n",
    "\n",
    "$P_2 = \\frac{1}{2}(3x^2 - 1)$\n",
    "\n",
    "$P_3 = \\frac{1}{2}(5x^3) - 3x$\n",
    "\n",
    "$P_4 = \\frac{1}{8}(35x^4 - 30x^2 + 3)$\n",
    "\n",
    "$P_5 = \\frac{1}{8}(63x^5 - 70x^3 + 15x)$\n",
    "\n",
    "$P_6 = \\frac{1}{16}(231x^6 - 315x^4 + 105x^2 - 5)$"
   ]
  },
  {
   "cell_type": "markdown",
   "id": "d891ff4d-4f64-49ee-a6c1-462d199153a4",
   "metadata": {},
   "source": [
    "## Brute Force Coding Method for Gauss-Legendre Method"
   ]
  },
  {
   "cell_type": "code",
   "execution_count": 231,
   "id": "d2f64cdb-d4a0-45f4-8533-7267c4ce77a6",
   "metadata": {},
   "outputs": [],
   "source": [
    "from numpy import *\n",
    "\n",
    "def Gauss(f, a, b, n): #This is a method defined solely on the known values of the weight (w_i) and abscissae (x_i)\n",
    "    if n == 2:\n",
    "        wi = np.array([1, 1])\n",
    "        xi = np.array([-0.5773502691896257, 0.5773502691896257])\n",
    "    elif n == 3:\n",
    "        wi = np.array([0.5555555555555556, 0.8888888888888888, 0.5555555555555556])\n",
    "        xi = np.array([-0.7745966692414834, 0, 0.7745966692414834])\n",
    "    elif n == 4:\n",
    "        wi = np.array([0.3478548451374538, 0.6521451548625461, 0.6521451548625461, 0.3478548451374538])\n",
    "        xi = np.array([-0.8611363115940526, -0.3399810435848563, 0.3399810435848563, 0.8611363115940526])\n",
    "    return ((b - a)/2)*sum(wi*f((b - a)/2*xi + (a + b)/2)) #application of the Gaussian Quadrature rule \n",
    "\n",
    "      "
   ]
  },
  {
   "cell_type": "code",
   "execution_count": 232,
   "id": "ca8e7683-7b42-486f-b659-3bd4dbcf4a9a",
   "metadata": {},
   "outputs": [
    {
     "name": "stdout",
     "output_type": "stream",
     "text": [
      "0.9562205219673764\n",
      "5.25\n",
      "4.670772030372183\n"
     ]
    }
   ],
   "source": [
    "f = lambda x: np.sin(x) \n",
    "f2 = lambda x: 3*x**3 -4*x\n",
    "f3 = lambda x: np.exp(x)\n",
    "\n",
    "print(Gauss(f, 1, 2, 2))\n",
    "print(Gauss(f2, 1, 2, 3))\n",
    "print(Gauss(f3, 1, 2, 3))"
   ]
  },
  {
   "cell_type": "markdown",
   "id": "f306fcfd-3e74-4b27-80a2-1ab409a7e9e3",
   "metadata": {},
   "source": [
    "## Comparison Using Trapezoid Rule and Built-in Scipy Function\n",
    "Now that the brute force function works up to our input amount of orders, let's compare the accuracy of this model with the Trapezoid rule, Simpson's rule, and Scipy's built-in function scipy.integrate.quad using the following integral:\n",
    "\n",
    "$\\int_1^2 4x^2 - 3x + 2 dx$"
   ]
  },
  {
   "cell_type": "code",
   "execution_count": 235,
   "id": "7c1842a1-2192-4a03-a823-973448f919f6",
   "metadata": {},
   "outputs": [],
   "source": [
    "def Trapezoid(f, start, end, parts, plot=1): #Code from lecture introducing the Trapezoid Rule\n",
    "    \"\"\"\n",
    "    Trapezoid sum rule\n",
    "    \n",
    "    \"\"\"\n",
    "    #define the function\n",
    "      \n",
    "    \n",
    "    #define the X, Y points \n",
    "    deltax = (end - start) / parts\n",
    "    resultsx = np.linspace(start, end, parts+1)\n",
    "    resultsy = f(resultsx)\n",
    "\n",
    "    # To calculate the area\n",
    "    area = np.empty([parts], float)\n",
    "    for i in range(parts):\n",
    "            area[i] = (resultsy[i]+resultsy[i+1]) * deltax/2\n",
    "    \n",
    "    \n",
    "    return sum(area\n",
    "              )\n",
    "def Simpson(f,start, end, parts):\n",
    "    \"\"\"\n",
    "    Simpson sum rule\n",
    "\n",
    "    \"\"\"\n",
    "    #define the X,Y points\n",
    "    deltax = (end - start) / parts\n",
    "    resultsx = np.linspace(start, end, parts+1)\n",
    "    #resultsx = np.append(resultsx, end+deltax)\n",
    "    resultsy = f(resultsx)\n",
    "\n",
    "    # To calculate the area\n",
    "    area = np.empty([parts+1], float)\n",
    "    for i in range(parts+1):\n",
    "        if i == 0 or i == parts:\n",
    "            coef = 1/3\n",
    "        elif i%2 == 1:\n",
    "            coef = 4/3\n",
    "        else: \n",
    "            coef = 2/3\n",
    "        area[i] = coef*resultsy[i]*deltax\n",
    "        #print(resultsx[i], resultsy[i], coef)\n",
    "\n",
    "\n",
    "    return sum(area)"
   ]
  },
  {
   "cell_type": "code",
   "execution_count": 236,
   "id": "8b12ebf4-5080-4e65-ae92-0cd698b06095",
   "metadata": {},
   "outputs": [
    {
     "name": "stdout",
     "output_type": "stream",
     "text": [
      "Brute Force Gauss 6.833333333333332\n",
      "Trapezoid 6.833334000000001\n",
      "Simpsons 6.833333333332762\n",
      "Scipy Function (6.833333333333333, 7.586524001605236e-14)\n"
     ]
    }
   ],
   "source": [
    "f4 = lambda x: 4*x**2 - 3*x + 2\n",
    "print(\"Brute Force Gauss\", Gauss(f4, 1, 2, 4))\n",
    "print(\"Trapezoid\", Trapezoid(f4, 1, 2, 1000))\n",
    "print(\"Simpsons\", Simpsons(f4, 1, 2, 1000))\n",
    "print(\"Scipy Function\", quad(f4, 1, 2))"
   ]
  },
  {
   "cell_type": "markdown",
   "id": "6952118c-0859-4df3-9c2c-0c44e7cfff18",
   "metadata": {},
   "source": [
    "## Another Example\n",
    "Another example using the following integral:\n",
    "\n",
    "$\\int_1^3 (5x^3 + 2cosx)dx$"
   ]
  },
  {
   "cell_type": "code",
   "execution_count": 237,
   "id": "9048a977-aef5-4a19-9a14-3f3253c077f7",
   "metadata": {},
   "outputs": [
    {
     "name": "stdout",
     "output_type": "stream",
     "text": [
      "Brute Force Gauss 98.59929828031173\n",
      "Trapezoid 98.59933851340463\n",
      "Simpsons 98.59929804649809\n",
      "Scipy Function (98.59929804650395, 1.094672109031069e-12)\n"
     ]
    }
   ],
   "source": [
    "f5 = lambda x: 5*x**3 + 2*np.cos(x)\n",
    "print(\"Brute Force Gauss\", Gauss(f5, 1, 3, 4))\n",
    "print(\"Trapezoid\", Trapezoid(f5, 1, 3, 1000))\n",
    "print(\"Simpsons\", Simpsons(f5, 1, 3, 1000))\n",
    "print(\"Scipy Function\", quad(f5, 1, 3))"
   ]
  },
  {
   "cell_type": "markdown",
   "id": "984b1884-567f-49b7-8b8d-18bfd7e215e3",
   "metadata": {},
   "source": [
    "## Gauss Quadrature Code for Any Order\n",
    "Previously I stated that it is difficult to make a code that correctly defines the Gauss-Legendre rule given any n-order. In lecture 5, a code is provided that works for any n-order polynomial which is worth delving into. The mechanics of this code follow these general procedures:\n",
    "\n",
    "### 1) Find the Legendre Polynomial and its derivative:\n",
    "This implies finding the recrusive relation:\n",
    "$\\begin{equation} nP_n(x) = (2n - 1)xP_{n - 1}(x) - (n - 1)P_{n - 2} \\end{equation}$\n",
    "\n",
    "and the derivative\n",
    "\n",
    "$\\begin{equation} P'_n(x) = \\frac{n}{x^2 - 1}(xP_n(x) - P_{n - 1}(x)) \\end{equation}$\n",
    "\n",
    "### 2) Find the roots of the polynomials using Newton-Raphson iteration:\n",
    "\n",
    "$\\begin{equation} x_{n + 1} = x_n - \\frac{f(x_n)}{f'(x_n)} \\end{equation}$\n",
    "\n",
    "the first guess $x_0$ for the ith root of an n order polynomial $P_n$ is given by:\n",
    "\n",
    "$\\begin{equation} x_0 = cos(\\pi\\frac{i - \\frac{1}{4}}{n + \\frac{1}{2}}) \\end{equation}$ \n",
    "\n",
    "### 3) Next find the weights:\n",
    "\n",
    "$\\begin{equation} w_i = \\frac{2}{(1 - x_i^2)[P'_n(x_i)]^2} \\end{equation}$\n",
    "\n",
    "### 4) Finally, approximate the integral using the Gaussian quadrature rule for any limit [a,b]:\n",
    "\n",
    "$\\begin{equation} \\int_a^bf(x)dx = \\frac{b - a}{2}\\sum_{i = 1}^nw_if(\\frac{b - a}{2}x_i + \\frac{a + b}{2}) \\end{equation}$\n",
    "\n",
    "This is the general setup to a Gauss-Legendre code and the example from Lecture 5 follows relatively closely to this recipe and allows for analysis using the Gauss-Legendre quadrature rule for orders beyond n=4, such as my own code. \n"
   ]
  },
  {
   "cell_type": "code",
   "execution_count": 238,
   "id": "efe08207-1b5d-4111-a5f9-6f8094b15e46",
   "metadata": {},
   "outputs": [],
   "source": [
    "from numpy import ones,copy,cos,tan,pi,linspace\n",
    "\n",
    "def gaussxw(N):\n",
    "\n",
    "    # Initial approximation to roots of the Legendre polynomial\n",
    "    a = linspace(3,4*N-1,N)/(4*N+2)\n",
    "    x = cos(pi*a+1/(8*N*N*tan(a)))\n",
    "\n",
    "    # Find roots using Newton's method\n",
    "    epsilon = 1e-15\n",
    "    delta = 1.0\n",
    "    while delta>epsilon:\n",
    "        p0 = ones(N,float)\n",
    "        p1 = copy(x)\n",
    "        for k in range(1,N):\n",
    "            p0,p1 = p1,((2*k+1)*x*p1-k*p0)/(k+1)\n",
    "        dp = (N+1)*(p0-x*p1)/(1-x*x)\n",
    "        dx = p1/dp\n",
    "        x -= dx\n",
    "        delta = max(abs(dx))\n",
    "\n",
    "    # Calculate the weights\n",
    "    w = 2*(N+1)*(N+1)/(N*N*(1-x*x)*dp*dp)\n",
    "\n",
    "    return x,w\n",
    "\n",
    "def GaussPerf(f, a, b, n):\n",
    "    x,w = gaussxw(n)\n",
    "    xp = 0.5*(b-a)*x + 0.5*(b+a)\n",
    "    wp = 0.5*(b-a)*w\n",
    "    return sum(wp*f(xp))\n"
   ]
  },
  {
   "cell_type": "markdown",
   "id": "aa6d4533-cb7b-4f98-a24e-2332d9100fcd",
   "metadata": {},
   "source": [
    "## Comparison Using New Code\n",
    "Comparison of the code from Lecture 5 between Trapezoid Rule, Simpson rule, and Scipy built-in function for the equation:\n",
    "\n",
    "$\\int_2^5 (\\frac{2x^3 - 1}{x + x^4})dx$\n",
    "\n",
    "using n-orders 30, 50, 100, 500, 2000\n",
    "\n",
    "### n=30"
   ]
  },
  {
   "cell_type": "code",
   "execution_count": 250,
   "id": "e08229c4-c8db-4d54-9c83-e85da63d2427",
   "metadata": {},
   "outputs": [
    {
     "name": "stdout",
     "output_type": "stream",
     "text": [
      "Gauss 1.722770048391812\n",
      "Trapezoid 1.7264751811552754\n",
      "Simpsons 1.4703296343348817\n",
      "Scipy Function (1.7227665977411033, 2.6856153966338507e-14)\n"
     ]
    }
   ],
   "source": [
    "f6 = lambda x: ((2*x**3 - 1) / (x + x**4))\n",
    "print(\"Gauss\", GaussPerf(f6, 2, 5, 30))\n",
    "print(\"Trapezoid\", Trapezoid(f6, 2, 5, 30))\n",
    "print(\"Simpsons\", Simpsons(f6, 2, 5, 30))\n",
    "print(\"Scipy Function\", quad(f6, 2, 5))"
   ]
  },
  {
   "cell_type": "markdown",
   "id": "473c2a70-0fe1-4975-95e1-3f38ce582126",
   "metadata": {},
   "source": [
    "### n=50"
   ]
  },
  {
   "cell_type": "code",
   "execution_count": 240,
   "id": "5da03a74-04c3-42d3-bb73-ca8149497309",
   "metadata": {},
   "outputs": [
    {
     "name": "stdout",
     "output_type": "stream",
     "text": [
      "Gauss 1.722766597741102\n",
      "Trapezoid 1.7228020847945602\n",
      "Simpsons 1.7227665273391828\n",
      "Scipy Function (1.7227665977411033, 2.6856153966338507e-14)\n"
     ]
    }
   ],
   "source": [
    "f6 = lambda x: ((2*x**3 - 1) / (x + x**4))\n",
    "print(\"Gauss\", GaussPerf(f6, 2, 5, 50))\n",
    "print(\"Trapezoid\", Trapezoid(f6, 2, 5, 50))\n",
    "print(\"Simpsons\", Simpsons(f6, 2, 5, 50))\n",
    "print(\"Scipy Function\", quad(f6, 2, 5))"
   ]
  },
  {
   "cell_type": "markdown",
   "id": "ebe49913-fee3-462c-8bc0-044871b8a097",
   "metadata": {},
   "source": [
    "### n=100"
   ]
  },
  {
   "cell_type": "code",
   "execution_count": 241,
   "id": "ae6fed9f-e605-4879-ab92-e4b96eca5313",
   "metadata": {},
   "outputs": [
    {
     "name": "stdout",
     "output_type": "stream",
     "text": [
      "Gauss 1.7227665977411033\n",
      "Trapezoid 1.7227754661929149\n",
      "Simpsons 1.7227665933257028\n",
      "Scipy Function (1.7227665977411033, 2.6856153966338507e-14)\n"
     ]
    }
   ],
   "source": [
    "f6 = lambda x: ((2*x**3 - 1) / (x + x**4))\n",
    "print(\"Gauss\", GaussPerf(f6, 2, 5, 100))\n",
    "print(\"Trapezoid\", Trapezoid(f6, 2, 5, 100))\n",
    "print(\"Simpsons\", Simpsons(f6, 2, 5, 100))\n",
    "print(\"Scipy Function\", quad(f6, 2, 5))"
   ]
  },
  {
   "cell_type": "markdown",
   "id": "eee89fc2-2fca-45d5-af97-22b6d1cbba45",
   "metadata": {},
   "source": [
    "### n=500"
   ]
  },
  {
   "cell_type": "code",
   "execution_count": 242,
   "id": "68668fdf-53be-4054-8104-81648f869b3e",
   "metadata": {},
   "outputs": [
    {
     "name": "stdout",
     "output_type": "stream",
     "text": [
      "Gauss 1.7227665977411042\n",
      "Trapezoid 1.7227669524367493\n",
      "Simpsons 1.7227191686210646\n",
      "Scipy Function (1.7227665977411033, 2.6856153966338507e-14)\n"
     ]
    }
   ],
   "source": [
    "f6 = lambda x: ((2*x**3 - 1) / (x + x**4))\n",
    "print(\"Gauss\", GaussPerf(f6, 2, 5, 500))\n",
    "print(\"Trapezoid\", Trapezoid(f6, 2, 5, 500))\n",
    "print(\"Simpsons\", Simpsons(f6, 2, 5, 50000))\n",
    "print(\"Scipy Function\", quad(f6, 2, 5))"
   ]
  },
  {
   "cell_type": "markdown",
   "id": "9c6190df-598b-4527-abd5-bac63845474b",
   "metadata": {},
   "source": [
    "### n=2000"
   ]
  },
  {
   "cell_type": "code",
   "execution_count": 243,
   "id": "bc377304-ecce-4fbb-ac10-77179abdd41b",
   "metadata": {},
   "outputs": [
    {
     "name": "stdout",
     "output_type": "stream",
     "text": [
      "Gauss 1.7227665977411037\n",
      "Trapezoid 1.722766619909478\n",
      "Simpsons 1.7215805403690063\n",
      "Scipy Function (1.7227665977411033, 2.6856153966338507e-14)\n"
     ]
    }
   ],
   "source": [
    "f6 = lambda x: ((2*x**3 - 1) / (x + x**4))\n",
    "print(\"Gauss\", GaussPerf(f6, 2, 5, 2000))\n",
    "print(\"Trapezoid\", Trapezoid(f6, 2, 5, 2000))\n",
    "print(\"Simpsons\", Simpsons(f6, 2, 5, 2000))\n",
    "print(\"Scipy Function\", quad(f6, 2, 5))"
   ]
  },
  {
   "cell_type": "code",
   "execution_count": 254,
   "id": "0393fabe-456f-479a-bc3d-d47733a8185e",
   "metadata": {},
   "outputs": [
    {
     "name": "stdout",
     "output_type": "stream",
     "text": [
      "Scipy [3.86665156e-14 3.86665156e-14 3.86665156e-14 3.86665156e-14\n",
      " 3.86665156e-14]\n",
      "Simpson Error [3.12744375e-05 4.08656177e-06 2.56297119e-07 2.75307869e-03\n",
      " 6.88460859e-02]\n",
      "Trapezoid Error [5.72696051e-03 2.05988748e-03 2.05988748e-03 2.05887231e-05\n",
      " 1.28678917e-06]\n",
      "Gauss Error [2.31999093e-13 1.15999547e-13 3.86665156e-14 1.28888385e-14\n",
      " 1.28888385e-14]\n"
     ]
    }
   ],
   "source": [
    "Gauss = np.array([1.7227665977411, 1.722766597741102, 1.7227665977411033, 1.7227665977411042, 1.7227665977411037])\n",
    "Simpson = np.array([1.7227660589555405, 1.7227665273391828, 1.7227665933257028, 1.7227191686210646, 1.7215805403690063])\n",
    "Trap = np.array([1.7228652599037682, 1.7228020847945602, 1.7228020847945602, 1.7227669524367493, 1.722766619909478])\n",
    "Scipy = np.array([1.7227665977411033, 1.7227665977411033, 1.7227665977411033, 1.7227665977411033, 1.7227665977411033])\n",
    "Correct = np.array([1.7227665977411040, 1.7227665977411040, 1.7227665977411040, 1.7227665977411040, 1.7227665977411040])\n",
    "\n",
    "def error(a, b):\n",
    "    return np.abs(((a - b) / b) * 100)\n",
    "\n",
    "print(\"Scipy\", error(Scipy, Correct))\n",
    "print(\"Simpson Error\", error(Simpson, Correct))\n",
    "print(\"Trapezoid Error\", error(Trap, Correct))\n",
    "print(\"Gauss Error\", error(Gauss, Correct))\n",
    "\n",
    "\n"
   ]
  },
  {
   "cell_type": "code",
   "execution_count": 256,
   "id": "17e6c751-9a37-4330-9449-244b05a616a1",
   "metadata": {},
   "outputs": [
    {
     "data": {
      "image/png": "[encoded data removed]",
      "text/plain": [
       "<Figure size 720x720 with 1 Axes>"
      ]
     },
     "metadata": {
      "needs_background": "light"
     },
     "output_type": "display_data"
    }
   ],
   "source": [
    "import matplotlib.pyplot as plt\n",
    "n = np.array([30, 50, 100, 500, 2000])\n",
    "plt.figure(figsize = (10, 10))\n",
    "plt.plot(n, error(Scipy, Correct), 'ro', label = 'Scipy')\n",
    "plt.plot(n, error(Simpson, Correct), 'go', label = 'Simpson')\n",
    "plt.plot(n, error(Trap, Correct), 'bo', label = 'Trapezoid')\n",
    "plt.plot(n, error(Gauss, Correct), 'yo', label = 'Gauss Function')\n",
    "plt.title('% Error of Integrated Value')\n",
    "plt.xlabel('Number of Points (n)')\n",
    "plt.ylabel('Error (%)')\n",
    "plt.legend()\n",
    "plt.show()\n",
    "\n"
   ]
  },
  {
   "cell_type": "markdown",
   "id": "b1ae9d3a-e6f2-4a7f-ba4f-e731656fdd23",
   "metadata": {},
   "source": [
    "## Analyzing the Error\n",
    "As the above graph shows, the scipy function and Gauss-Legendre function from lecture 5 have the same percentage error from the correct value of the integral, 1.7227665977411040, regardless of order number. Compared to the Trapezoid and, especially, the Simpson's rule, the relative efficiency and accuracy of the Gauss-Legendre code is consistent with respect to order number; whereas, the Trapezoid and Simpson's rule tend to have a more invariant and higher error percentage as the the order number increases. In particular, the Trapezoid rule greatly benefits from a higher number of orders as its percentage error from n=30 to n=1000 decreases several orders of magnitude. What this error plot stands to show is the efficiency by which the Gauss-Legendre quadrature evaluates integrals, regardless of order number. This also shows one of the drawbacks of the Simpson's rule, where its accuracy depends on the points being evenly spaced."
   ]
  },
  {
   "cell_type": "markdown",
   "id": "ecd607f7-803a-43b5-bef4-ee3a9694188d",
   "metadata": {},
   "source": [
    "## Other Applications of Gaussian Quadrature\n",
    "The efficiency of the Gaussian Quadrature method of solving integrals has applications beyond just mathematics. Largely, there are Physical applications to Gaussian Quadrature, although few and far between compared to other mathematically important equations, such as diffusivity-factor approximation in infared radiation, characterizing heavy-ends of hydrocarbon fluids for modeling wax precipitation, and neural network modelling in Earth networks. It is interesting to see the scope of Gaussian Quadrature go beyond simply the tedium of mathematical operations. "
   ]
  },
  {
   "cell_type": "markdown",
   "id": "995e2491-d0ca-48b0-9406-03db9823aa88",
   "metadata": {},
   "source": [
    "## References\n",
    "Some Applications of Gaussian Quadrature and Neural Network Modeling in Earth Flows and Other Slow-Moving Landslides in Cohesive Slope Materials - https://scholarworks.wmich.edu/cgi/viewcontent.cgi?article=4448&context=dissertations\n",
    "\n",
    "Application of Gaussian quadrature method to characterize heavy ends of hydrocarbon fluids for modeling wax precipitation - https://www.sciencedirect.com/science/article/pii/S0307904X10002167\n",
    "\n",
    "Gaussian Quadrature and Its Application to Infrared Radiation - https://journals.ametsoc.org/view/journals/atsc/57/5/1520-0469_2000_057_0753_gqaiat_2.0.co_2.xml\n",
    "\n",
    "Gaussian Quadrature Weights and Abscissae - https://pomax.github.io/bezierinfo/legendre-gauss.html\n",
    "\n",
    "Legendre Polynomial - https://mathworld.wolfram.com/LegendrePolynomial.html\n",
    "\n",
    "Gauss–Legendre quadrature - https://en.wikipedia.org/wiki/Gauss%E2%80%93Legendre_quadrature\n",
    "\n",
    "Gaussian Quadrature - https://www.math.usm.edu/lambers/mat460/fall09/lecture31.pdf\n",
    "\n",
    "Quadrature Rules - https://link.springer.com/content/pdf/bbm%3A978-1-4612-0101-4%2F1.pdf\n",
    "\n",
    "Gauss Quadrature and Multi-dimensional Integrals - https://www.sciencedirect.com/topics/engineering/gaussian-quadrature-rule\n",
    "\n",
    "Gaussian quadrature - https://en.wikipedia.org/wiki/Gaussian_quadrature#\n",
    "\n",
    "Lecture 5 Integrals - https://github.com/qzhu2017/ComputationalPhysics300/blob/master/Lectures/Lec_05_integral.ipynb"
   ]
  }
 ],
 "metadata": {
  "kernelspec": {
   "display_name": "Python 3",
   "language": "python",
   "name": "python3"
  },
  "language_info": {
   "codemirror_mode": {
    "name": "ipython",
    "version": 3
   },
   "file_extension": ".py",
   "mimetype": "text/x-python",
   "name": "python",
   "nbconvert_exporter": "python",
   "pygments_lexer": "ipython3",
   "version": "3.8.8"
  }
 },
 "nbformat": 4,
 "nbformat_minor": 5
}
