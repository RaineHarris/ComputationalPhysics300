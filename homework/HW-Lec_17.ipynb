{
 "cells": [
  {
   "cell_type": "code",
   "execution_count": 13,
   "id": "b177eab1-7a64-4cfa-8916-b92f24e50128",
   "metadata": {},
   "outputs": [],
   "source": [
    "def LJ(r):\n",
    "    r6 = r**6\n",
    "    r12 = r6*r6\n",
    "    return 4*(1/r12 - 1/r6)"
   ]
  },
  {
   "cell_type": "code",
   "execution_count": 14,
   "id": "28a5ad79-2417-4e7c-873c-e479607f971d",
   "metadata": {},
   "outputs": [],
   "source": [
    "import numpy as np #interpretation from lecture 18\n",
    "\n",
    "def total_Potential(positions):\n",
    "    E = 0\n",
    "    N_atom = int(len(positions)/3)\n",
    "\n",
    "    for i in range(N_atom - 1):\n",
    "        for j in range(i + 1, N_atom):\n",
    "            pos1 = positions[i*3:(i+1)*3]\n",
    "            pos2 = positions[j*3:(j+1)*3]\n",
    "            dist = np.linalg.norm(pos1 - pos2)\n",
    "            E += LJ(dist)\n",
    "            \n",
    "    return E"
   ]
  },
  {
   "cell_type": "code",
   "execution_count": 15,
   "id": "509faac6-a16e-4eba-af38-c6eaa2452f34",
   "metadata": {},
   "outputs": [],
   "source": [
    "def init(N, L=1):\n",
    "    return L*np.random.random_sample((N*3,))"
   ]
  },
  {
   "cell_type": "code",
   "execution_count": 17,
   "id": "96cace5d-b61c-4bed-aafc-f33377b0e985",
   "metadata": {},
   "outputs": [],
   "source": [
    "pos = init(3)"
   ]
  },
  {
   "cell_type": "code",
   "execution_count": 18,
   "id": "1a38f9c7-3294-45bf-911b-76e1c335e74c",
   "metadata": {},
   "outputs": [
    {
     "name": "stdout",
     "output_type": "stream",
     "text": [
      "Total energy:  -2.999999999999859\n"
     ]
    }
   ],
   "source": [
    "from scipy.optimize import minimize #minimize to get final answer\n",
    "\n",
    "res = minimize(total_Potential, pos, method='CG', tol=1e-4)\n",
    "print(\"Total energy: \", res.fun)"
   ]
  },
  {
   "cell_type": "code",
   "execution_count": null,
   "id": "67b428c0-fbf3-41b8-94ac-8e83e78d5f98",
   "metadata": {},
   "outputs": [],
   "source": []
  }
 ],
 "metadata": {
  "kernelspec": {
   "display_name": "Python 3",
   "language": "python",
   "name": "python3"
  },
  "language_info": {
   "codemirror_mode": {
    "name": "ipython",
    "version": 3
   },
   "file_extension": ".py",
   "mimetype": "text/x-python",
   "name": "python",
   "nbconvert_exporter": "python",
   "pygments_lexer": "ipython3",
   "version": "3.8.8"
  }
 },
 "nbformat": 4,
 "nbformat_minor": 5
}
