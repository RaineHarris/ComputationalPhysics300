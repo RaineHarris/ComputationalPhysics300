{
 "cells": [
  {
   "cell_type": "code",
   "execution_count": 126,
   "id": "6a2d1daa-bfaf-4ede-a0b1-b768f6527492",
   "metadata": {},
   "outputs": [],
   "source": [
    "import matplotlib.pyplot as plt\n",
    "import numpy as np\n",
    "from random import random\n"
   ]
  },
  {
   "cell_type": "code",
   "execution_count": 142,
   "id": "9b1be5ba-5542-4f0f-980f-37d5cdbaca81",
   "metadata": {},
   "outputs": [
    {
     "data": {
      "image/png": "[encoded data removed]",
      "text/plain": [
       "<Figure size 432x288 with 1 Axes>"
      ]
     },
     "metadata": {
      "needs_background": "light"
     },
     "output_type": "display_data"
    }
   ],
   "source": [
    "#Pretties up the graph and defines the two functions\n",
    "def f(x):\n",
    "    return np.sqrt(1-(x-1)**2)\n",
    "def g(x):\n",
    "    return 2-np.sqrt(4-x**2)\n",
    "\n",
    "x1 = np.linspace(0,2,100)\n",
    "y1 = f(x1)\n",
    "y2 = g(x1)\n",
    "\n",
    "fig1 = plt.figure()\n",
    "ax1 = fig1.add_subplot(111, aspect='equal')\n",
    "ax1.plot(x1, y1, label=\"$f(x)$\")\n",
    "ax1.plot(x1, y2, label=\"$g(x)$\")\n",
    "ax1.legend(loc=\"upper left\")\n",
    "ax1.set_xlim(0,2)\n",
    "ax1.set_ylim(0,2)\n",
    "ax1.fill_between(x1, y1, y2, where=y1>y2, facecolor='green')\n",
    "plt.show()"
   ]
  },
  {
   "cell_type": "code",
   "execution_count": 145,
   "id": "d329ef79-2746-4a2a-9ba4-b71eea3cb629",
   "metadata": {},
   "outputs": [],
   "source": [
    "#Monte Carlo integral definition applied to these equations\n",
    "def MC(N):\n",
    "    count = 0\n",
    "    for i in range(N):\n",
    "        x = 2*random() + 0\n",
    "        y = 2*random() + 0\n",
    "        if y < f(x) and y > g(x):\n",
    "            count += 1\n",
    "    I = 4*count/N\n",
    "    return I"
   ]
  },
  {
   "cell_type": "code",
   "execution_count": 147,
   "id": "b1eff82f-2e33-479d-86ce-3e608ac61386",
   "metadata": {},
   "outputs": [
    {
     "name": "stdout",
     "output_type": "stream",
     "text": [
      "1.08\n",
      "0.928\n",
      "0.9944\n",
      "0.95924\n"
     ]
    }
   ],
   "source": [
    "#Prints area of green using Monte Carlo integral\n",
    "print(MC(100))\n",
    "print(MC(1000))\n",
    "print(MC(10000))\n",
    "print(MC(100000))"
   ]
  },
  {
   "cell_type": "code",
   "execution_count": 150,
   "id": "ee7f018c-3337-4934-bd15-275a0758493b",
   "metadata": {},
   "outputs": [
    {
     "name": "stdout",
     "output_type": "stream",
     "text": [
      "0.012714257199999997\n"
     ]
    }
   ],
   "source": [
    "#Applying variance in a single run\n",
    "data = np.array([MC(100),\n",
    "MC(1000),\n",
    "MC(10000),\n",
    "MC(100000)])\n",
    "var = np.var(data)\n",
    "print(var)"
   ]
  },
  {
   "cell_type": "code",
   "execution_count": 158,
   "id": "0e0e94bf-c82e-4b64-9044-21ef3c38e85b",
   "metadata": {},
   "outputs": [],
   "source": [
    "#Better definition to run variance over 100 times\n",
    "def MCvar(N, runs):\n",
    "    datas = np.zeros(runs)\n",
    "    for i in range(runs):\n",
    "        datas[i] = MC(N)\n",
    "    return np.var(datas)"
   ]
  },
  {
   "cell_type": "code",
   "execution_count": 159,
   "id": "1fd8ebff-412c-4b5f-961d-f0dfe4b12470",
   "metadata": {},
   "outputs": [
    {
     "name": "stdout",
     "output_type": "stream",
     "text": [
      "0.032161760000000005\n",
      "0.0028743984000000004\n",
      "0.00029737400000000015\n",
      "2.815793584000003e-05\n"
     ]
    }
   ],
   "source": [
    "#Prints Standard Variance over 100 runs\n",
    "runs = 100\n",
    "Ns = np.array([100, 1000, 10000, 100000])\n",
    "\n",
    "for i in Ns:\n",
    "    print(MCvar(i, runs))"
   ]
  },
  {
   "cell_type": "code",
   "execution_count": null,
   "id": "74a20a16-5e5c-4a8d-97f9-fd9254947017",
   "metadata": {},
   "outputs": [],
   "source": []
  }
 ],
 "metadata": {
  "kernelspec": {
   "display_name": "Python 3",
   "language": "python",
   "name": "python3"
  },
  "language_info": {
   "codemirror_mode": {
    "name": "ipython",
    "version": 3
   },
   "file_extension": ".py",
   "mimetype": "text/x-python",
   "name": "python",
   "nbconvert_exporter": "python",
   "pygments_lexer": "ipython3",
   "version": "3.8.8"
  }
 },
 "nbformat": 4,
 "nbformat_minor": 5
}
