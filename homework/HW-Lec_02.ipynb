{
 "cells": [
  {
   "cell_type": "code",
   "execution_count": null,
   "id": "5551a3a4-17d5-4a6f-b3a0-31dfea368779",
   "metadata": {},
   "outputs": [],
   "source": [
    "import numpy\n",
    "from numpy import sqrt"
   ]
  },
  {
   "cell_type": "code",
   "execution_count": null,
   "id": "e30e4cbb-cc76-4620-ba83-c0a960e6d7de",
   "metadata": {},
   "outputs": [],
   "source": [
    "def func(n):\n",
    "    return .447 * ((1.618) ** n - (-.618) ** n)"
   ]
  },
  {
   "cell_type": "code",
   "execution_count": null,
   "id": "7396dea0-c7c2-49ac-81a6-0dd8c6377fcd",
   "metadata": {},
   "outputs": [],
   "source": [
    "print(func(5))\n",
    "        "
   ]
  },
  {
   "cell_type": "code",
   "execution_count": null,
   "id": "f3f5353b-eb6b-48fc-b528-3b7e6653e60c",
   "metadata": {},
   "outputs": [],
   "source": [
    "def fibb(x):\n",
    "    return (1 / numpy.sqrt(5)) * (((1 + numpy.sqrt(5)) / 2) ** x - ((1 - numpy.sqrt(5)) / 2) ** x)"
   ]
  },
  {
   "cell_type": "code",
   "execution_count": null,
   "id": "721a3554-342e-4d13-9593-f33639b3c33d",
   "metadata": {},
   "outputs": [],
   "source": [
    "print(fibb(0)) #brute force method of calculating the Fibonacci Sequence\n",
    "print(fibb(1))\n",
    "print(fibb(2))\n",
    "print(fibb(3))\n",
    "print(fibb(4))\n",
    "print(fibb(5))\n",
    "print(fibb(10))\n",
    "print(fibb(20))\n",
    "print(fibb(50))"
   ]
  },
  {
   "cell_type": "code",
   "execution_count": null,
   "id": "15c2c89f-9982-4c75-b2d3-16cb66704701",
   "metadata": {},
   "outputs": [],
   "source": [
    "def Fib(n):\n",
    "    if(n <= 0):\n",
    "        return 0 #eliminates error that occurs with all negative values that could occur when trying to code the fibonacci sequence\n",
    "    elif(n == 1):\n",
    "        return 1 #eliminates error when calculating fibonacci sequence using n = 1\n",
    "    else: \n",
    "        return (Fib(n-1) + Fib(n-2)) #this equation only begins to properly work once the n = 2, so the if and elif statements eliminate the errors from n= 0, 1"
   ]
  },
  {
   "cell_type": "code",
   "execution_count": null,
   "id": "b64245a7-c5fd-4712-94f0-c475fbb67770",
   "metadata": {},
   "outputs": [],
   "source": [
    "n = 1000"
   ]
  },
  {
   "cell_type": "code",
   "execution_count": null,
   "id": "6cd49d28-881f-4050-8585-50af0cf3a244",
   "metadata": {},
   "outputs": [
    {
     "name": "stdout",
     "output_type": "stream",
     "text": [
      "Fibonacci Sequence\n",
      "0\n",
      "1\n",
      "1\n",
      "2\n",
      "3\n",
      "5\n",
      "8\n",
      "13\n",
      "21\n",
      "34\n",
      "55\n",
      "89\n",
      "144\n",
      "233\n",
      "377\n",
      "610\n",
      "987\n",
      "1597\n",
      "2584\n",
      "4181\n",
      "6765\n",
      "10946\n",
      "17711\n",
      "28657\n",
      "46368\n",
      "75025\n",
      "121393\n",
      "196418\n",
      "317811\n",
      "514229\n",
      "832040\n",
      "1346269\n",
      "2178309\n",
      "3524578\n",
      "5702887\n",
      "9227465\n",
      "14930352\n",
      "24157817\n",
      "39088169\n",
      "63245986\n",
      "102334155\n"
     ]
    }
   ],
   "source": [
    "print(\"Fibonacci Sequence\")\n",
    "for Num in range (0, n):\n",
    "    print(Fib(Num))"
   ]
  }
 ],
 "metadata": {
  "kernelspec": {
   "display_name": "Python 3",
   "language": "python",
   "name": "python3"
  },
  "language_info": {
   "codemirror_mode": {
    "name": "ipython",
    "version": 3
   },
   "file_extension": ".py",
   "mimetype": "text/x-python",
   "name": "python",
   "nbconvert_exporter": "python",
   "pygments_lexer": "ipython3",
   "version": "3.8.8"
  }
 },
 "nbformat": 4,
 "nbformat_minor": 5
}
