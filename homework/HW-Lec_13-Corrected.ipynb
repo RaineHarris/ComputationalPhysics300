{
 "cells": [
  {
   "cell_type": "code",
   "execution_count": 26,
   "id": "84f13945-d80d-43b3-bb85-604f78afe0a6",
   "metadata": {},
   "outputs": [],
   "source": [
    "import numpy as np\n",
    "import matplotlib.pyplot as plt"
   ]
  },
  {
   "cell_type": "code",
   "execution_count": 16,
   "id": "6140148f-82c0-4cf9-afb6-3b2ce7115216",
   "metadata": {},
   "outputs": [
    {
     "name": "stdout",
     "output_type": "stream",
     "text": [
      "[6] [4]\n"
     ]
    }
   ],
   "source": [
    "#simulate rolling a dice\n",
    "\n",
    "a=np.random.randint(1,7,1)\n",
    "b=np.random.randint(1,7,1)\n",
    "print(a,b)\n"
   ]
  },
  {
   "cell_type": "code",
   "execution_count": 24,
   "id": "27c79456-7243-43e1-856c-a5b5e8fe0288",
   "metadata": {},
   "outputs": [
    {
     "name": "stdout",
     "output_type": "stream",
     "text": [
      "27706\n",
      "2.7706\n"
     ]
    }
   ],
   "source": [
    "#simulate a million times dice roll\n",
    "n0 = int(1e6)\n",
    "n1 = 0\n",
    "rolls = np.zeros((n0, 2), dtype=int) \n",
    "def ROLL():\n",
    "    a=np.random.randint(1,7,1)\n",
    "    b=np.random.randint(1,7,1)\n",
    "    return a, b\n",
    "for i in range(n0):\n",
    "    a, b = ROLL()\n",
    "    rolls[i, 0], rolls[i, 1] = a, b\n",
    "    if (a + b) == 12:\n",
    "        n1 += 1\n",
    "print(n1) #times 6-6 is rolled\n",
    "print(100*(n1 / n0))    #percentage chance in a million\n",
    "\n",
    "\n",
    "\n",
    "    "
   ]
  },
  {
   "cell_type": "code",
   "execution_count": 1,
   "id": "6b7adb00-7764-4868-9cfd-fd5eab4dbe73",
   "metadata": {},
   "outputs": [
    {
     "name": "stdout",
     "output_type": "stream",
     "text": [
      "[-5, -5, -5, -5, 4, -2, -1, 4, 0, 0]\n"
     ]
    },
    {
     "data": {
      "image/png": "[encoded data removed]",
      "text/plain": [
       "<Figure size 432x288 with 1 Axes>"
      ]
     },
     "metadata": {
      "needs_background": "light"
     },
     "output_type": "display_data"
    },
    {
     "data": {
      "image/png": "[encoded data removed]",
      "text/plain": [
       "<Figure size 432x288 with 1 Axes>"
      ]
     },
     "metadata": {
      "needs_background": "light"
     },
     "output_type": "display_data"
    }
   ],
   "source": [
    "import matplotlib.pyplot as plt\n",
    "\n",
    "N = 1000\n",
    "a = 7*7\n",
    "c = 1012\n",
    "m = 2**31-1 #4245035300\n",
    "x = 1\n",
    "results = []\n",
    "\n",
    "for i in range(N):      \n",
    "    x = (a*x+c)%m\n",
    "    results.append(x-5)\n",
    "results = [int(x/m*10)-5  for x in results]\n",
    "\n",
    "print(results[:10])  \n",
    "plt.plot(results,\"o\")\n",
    "plt.show()\n",
    "\n",
    "plt.hist(results)\n",
    "plt.show()"
   ]
  },
  {
   "cell_type": "code",
   "execution_count": null,
   "id": "f08bee78-e63d-4a10-a704-38e59f127b55",
   "metadata": {},
   "outputs": [],
   "source": []
  }
 ],
 "metadata": {
  "kernelspec": {
   "display_name": "Python 3",
   "language": "python",
   "name": "python3"
  },
  "language_info": {
   "codemirror_mode": {
    "name": "ipython",
    "version": 3
   },
   "file_extension": ".py",
   "mimetype": "text/x-python",
   "name": "python",
   "nbconvert_exporter": "python",
   "pygments_lexer": "ipython3",
   "version": "3.8.8"
  }
 },
 "nbformat": 4,
 "nbformat_minor": 5
}
