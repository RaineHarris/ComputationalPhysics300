{
 "cells": [
  {
   "cell_type": "markdown",
   "id": "f0fc33a2-b082-4da2-a34d-c9dcd9a25ebf",
   "metadata": {},
   "source": [
    "The code that is to be analyzed begins with a definition of energy. This definition consists of an iterated for loop for i and for j that where i is in range of the number of atoms minus 1 and j is in the range of i + 1. There are then two positions defined by i and j, where there difference (pos1 - pos2) is normalized. This difference is then made to be the variable for the Leonard-Jones potential code acting as the points in a 3 x N array of all the atoms."
   ]
  },
  {
   "cell_type": "markdown",
   "id": "1b2fcaa8-8bbc-492f-a013-ea8b0382ea60",
   "metadata": {},
   "source": [
    "The second code is a gradient code that is used to define the following equation: \n",
    "\n",
    "\\begin{equation} \\frac{dE}{dr} = \\sum [\\frac{24}{r^7} - \\frac{48}{r^13}]\\frac{x_i - x_j}{r} \\end{equation}\n",
    "\n",
    "The code defines the positions and uses an iterated for loop to give them in terms of i and j. These positions (center and neighbor) are then normalized. The normalized value is denoted as r. They are then plugged into the equation above where the last fraction is a seperation vector over a normalized unit vector."
   ]
  },
  {
   "cell_type": "code",
   "execution_count": null,
   "id": "1dc7bfa0-37cc-4848-869f-b21b78ccf32f",
   "metadata": {},
   "outputs": [],
   "source": []
  }
 ],
 "metadata": {
  "kernelspec": {
   "display_name": "Python 3",
   "language": "python",
   "name": "python3"
  },
  "language_info": {
   "codemirror_mode": {
    "name": "ipython",
    "version": 3
   },
   "file_extension": ".py",
   "mimetype": "text/x-python",
   "name": "python",
   "nbconvert_exporter": "python",
   "pygments_lexer": "ipython3",
   "version": "3.8.8"
  }
 },
 "nbformat": 4,
 "nbformat_minor": 5
}
