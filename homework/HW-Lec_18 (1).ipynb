{
 "cells": [
  {
   "cell_type": "code",
   "execution_count": 1,
   "id": "4d358014-a69c-4825-8435-217dcdadacfe",
   "metadata": {},
   "outputs": [],
   "source": [
    "import numpy as np\n",
    "from numba import jit"
   ]
  },
  {
   "cell_type": "code",
   "execution_count": 2,
   "id": "37ff8ac4-e742-4a6e-92f2-0a0bd6a04f76",
   "metadata": {},
   "outputs": [],
   "source": [
    "@jit\n",
    "def LJ(r):\n",
    "    r6 = r**6\n",
    "    r12 = r6*r6\n",
    "    return 4*(1/r12 - 1/r6)"
   ]
  },
  {
   "cell_type": "code",
   "execution_count": 3,
   "id": "c52e0e43-dcd9-4cf5-8d58-70b408f3e46e",
   "metadata": {},
   "outputs": [],
   "source": [
    "import numpy as np #interpretation from lecture 18\n",
    "@jit\n",
    "def total_Potential(positions):\n",
    "    E = 0\n",
    "    N_atom = int(len(positions)/3)\n",
    "\n",
    "    for i in range(N_atom - 1):\n",
    "        for j in range(i + 1, N_atom):\n",
    "            pos1 = positions[i*3:(i+1)*3]\n",
    "            pos2 = positions[j*3:(j+1)*3]\n",
    "            dist = np.linalg.norm(pos1 - pos2)\n",
    "            E += LJ(dist)\n",
    "            \n",
    "    return E"
   ]
  },
  {
   "cell_type": "code",
   "execution_count": 4,
   "id": "62698308-b201-4fbb-a69b-54fdd4fa4418",
   "metadata": {},
   "outputs": [],
   "source": [
    "@jit\n",
    "def init(N, L=1):\n",
    "    return L*np.random.random_sample((N*3,))"
   ]
  },
  {
   "cell_type": "code",
   "execution_count": 7,
   "id": "d6dc97e7-47cd-4ceb-b499-e0909da6ab36",
   "metadata": {},
   "outputs": [
    {
     "name": "stdout",
     "output_type": "stream",
     "text": [
      "Total energy:  -37.454743750438695\n"
     ]
    }
   ],
   "source": [
    "from scipy.optimize import minimize\n",
    "N = 13\n",
    "pos = init(N)\n",
    "res = minimize(total_Potential, pos, method='CG', tol=1e-4)\n",
    "print(\"Total energy: \", res.fun)"
   ]
  },
  {
   "cell_type": "code",
   "execution_count": 11,
   "id": "439e31ab-8381-4057-9e52-584b143bd1a3",
   "metadata": {},
   "outputs": [
    {
     "name": "stdout",
     "output_type": "stream",
     "text": [
      "\n",
      "Ground state energy: -44.326801419443896\n",
      "Total calculation time: 42 sec\n"
     ]
    }
   ],
   "source": [
    "import time\n",
    "\n",
    "ground_values = []\n",
    "pos_values = []\n",
    "N_runs = 50\n",
    "\n",
    "timer_start = time.perf_counter() #timer values that dictate overall time of code\n",
    "for i in range(N_runs):\n",
    "    pos = init(N)\n",
    "    res = minimize(total_Potential, pos, method='CG', tol=1e-4)\n",
    "    ground_values.append(res.fun)\n",
    "    pos_values.append(res.x)\n",
    "timer_end = time.perf_counter() \n",
    "time = timer_end - timer_start\n",
    "print('\\nGround state energy:', min(ground_values))\n",
    "print(\"Total calculation time: {:.0f} sec\".format(time, ))"
   ]
  },
  {
   "cell_type": "code",
   "execution_count": null,
   "id": "a4b2b50c-9bdf-496c-a218-dd66df9ba9fc",
   "metadata": {},
   "outputs": [],
   "source": []
  }
 ],
 "metadata": {
  "kernelspec": {
   "display_name": "Python 3",
   "language": "python",
   "name": "python3"
  },
  "language_info": {
   "codemirror_mode": {
    "name": "ipython",
    "version": 3
   },
   "file_extension": ".py",
   "mimetype": "text/x-python",
   "name": "python",
   "nbconvert_exporter": "python",
   "pygments_lexer": "ipython3",
   "version": "3.8.8"
  }
 },
 "nbformat": 4,
 "nbformat_minor": 5
}
