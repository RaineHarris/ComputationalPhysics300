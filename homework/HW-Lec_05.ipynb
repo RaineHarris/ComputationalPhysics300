{
 "cells": [
  {
   "cell_type": "code",
   "execution_count": 23,
   "id": "2998c0c6-6487-4692-b3aa-80145012cb21",
   "metadata": {},
   "outputs": [],
   "source": [
    "import scipy.integrate as integrate\n",
    "import numpy as np\n",
    "import matplotlib.pyplot as plt"
   ]
  },
  {
   "cell_type": "code",
   "execution_count": 53,
   "id": "5b12c769-ccaf-40f7-aefe-409264993547",
   "metadata": {},
   "outputs": [],
   "source": [
    "# First Method\n",
    "def Simpson(start, end, parts, plot=1):\n",
    "    \"\"\"\n",
    "    Simpson sum rule\n",
    "    \n",
    "    \"\"\"\n",
    "    #define the function\n",
    "    f = lambda x: np.exp(-x**2)  \n",
    "    \n",
    "    #define the X, Y points \n",
    "    deltax = (end - start) / parts\n",
    "    resultsx = np.linspace(start, end, parts+1)\n",
    "    resultsy = f(resultsx)\n",
    "\n",
    "    #-----------------------------------------------------\n",
    "    #define the Simpson points and calculate the area here\n",
    "    #-----------------------------------------------------\n",
    "    area = np.empty([parts], float)\n",
    "    for i in range(0, parts, 3):\n",
    "        area[i] = ((1 / 3)*deltax)*(resultsy[i] + 4*resultsy[i+1] + resultsy[i+2])\n",
    "        return area\n",
    "    if plot==1:\n",
    "            x = np.linspace(start,end,100)\n",
    "            y = f(x)        \n",
    "            plt.plot(x, y, 'r')\n",
    "        \n",
    "        #-----------------------------------------------------\n",
    "        #draw the curves based on Simpson points here\n",
    "        #-----------------------------------------------------             \n",
    "    \n",
    "            plt.xlim([start,end])\n",
    "            plt.ylim([min(y),max(y)])\n",
    "            plt.show()\n",
    "    \n",
    "    return sum(area)\n",
    "\n"
   ]
  },
  {
   "cell_type": "code",
   "execution_count": 54,
   "id": "a0a3787f-a18c-429b-ae5c-792694530a57",
   "metadata": {},
   "outputs": [
    {
     "data": {
      "text/plain": [
       "array([8.05526613e-001, 2.96439388e-323, 3.45845952e-323, 3.95252517e-323,\n",
       "       4.44659081e-323])"
      ]
     },
     "execution_count": 54,
     "metadata": {},
     "output_type": "execute_result"
    }
   ],
   "source": [
    "Simpson(0, 3, 5)"
   ]
  },
  {
   "cell_type": "code",
   "execution_count": 25,
   "id": "8a5c7784-667b-4b56-837b-4a631e2b27ba",
   "metadata": {},
   "outputs": [
    {
     "name": "stdout",
     "output_type": "stream",
     "text": [
      "0.8862073482595214\n"
     ]
    }
   ],
   "source": [
    "# 2nd Method\n",
    "result = integrate.quad(lambda x: np.exp(-x**2), 0, 3)\n",
    "answer = result[0]\n",
    "print(answer)"
   ]
  },
  {
   "cell_type": "code",
   "execution_count": 26,
   "id": "80956003-e359-4b69-a519-22cba81b2cdf",
   "metadata": {},
   "outputs": [],
   "source": [
    "def Trapezoid(start, end, parts, plot=1):\n",
    "    \"\"\"\n",
    "    Trapezoid sum rule\n",
    "    \n",
    "    \"\"\"\n",
    "    #define the function\n",
    "    f = lambda x: np.exp(-x**2)  \n",
    "    \n",
    "    #define the X, Y points \n",
    "    deltax = (end - start) / parts\n",
    "    resultsx = np.linspace(start, end, parts+1)\n",
    "    resultsy = f(resultsx)\n",
    "\n",
    "    # To calculate the area\n",
    "    area = np.empty([parts], float)\n",
    "    for i in range(parts):\n",
    "            area[i] = (resultsy[i]+resultsy[i+1]) * deltax/2\n",
    "\n",
    "    # By default, we also output the plot.\n",
    "    if plot==1:\n",
    "        x = np.linspace(start,end,100)\n",
    "        y = f(x)        \n",
    "        plt.plot(x, y, 'r')\n",
    "        plt.xlim([start,end])\n",
    "        \n",
    "        y2 = np.array([0,0])\n",
    "        for i in range(parts):\n",
    "            x0 = resultsx[i:i+2]\n",
    "            y1 = resultsy[i:i+2]\n",
    "            plt.fill_between(x0, y1, y2, where=y1>=y2, facecolor='blue')\n",
    "            linex, liney = [resultsx[i+1], resultsx[i+1]], [0, resultsy[i+1]]\n",
    "            plt.plot(linex, liney, color='black', linewidth=2.0)        \n",
    "        \n",
    "        plt.show()\n",
    "        print(\"The Sum of the area is: \", sum(area))\n",
    "    \n",
    "    return sum(area)"
   ]
  },
  {
   "cell_type": "code",
   "execution_count": 52,
   "id": "49d6083e-f689-4a92-a748-e1367a7e8aec",
   "metadata": {},
   "outputs": [
    {
     "data": {
      "image/png": "[encoded data removed]",
      "text/plain": [
       "<Figure size 432x288 with 1 Axes>"
      ]
     },
     "metadata": {
      "needs_background": "light"
     },
     "output_type": "display_data"
    },
    {
     "name": "stdout",
     "output_type": "stream",
     "text": [
      "The Sum of the area is:  0.8861936233658585\n"
     ]
    },
    {
     "data": {
      "text/plain": [
       "0.8861936233658585"
      ]
     },
     "execution_count": 52,
     "metadata": {},
     "output_type": "execute_result"
    }
   ],
   "source": [
    "Trapezoid(0,3,6)"
   ]
  },
  {
   "cell_type": "code",
   "execution_count": null,
   "id": "b442a1a5-068f-4fda-8ccf-e1cf96a4139f",
   "metadata": {},
   "outputs": [],
   "source": []
  }
 ],
 "metadata": {
  "kernelspec": {
   "display_name": "Python 3",
   "language": "python",
   "name": "python3"
  },
  "language_info": {
   "codemirror_mode": {
    "name": "ipython",
    "version": 3
   },
   "file_extension": ".py",
   "mimetype": "text/x-python",
   "name": "python",
   "nbconvert_exporter": "python",
   "pygments_lexer": "ipython3",
   "version": "3.8.8"
  }
 },
 "nbformat": 4,
 "nbformat_minor": 5
}
