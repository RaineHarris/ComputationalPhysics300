{
 "cells": [
  {
   "cell_type": "code",
   "execution_count": 1,
   "id": "7fe0901d-ed57-464a-8d61-885617f21424",
   "metadata": {},
   "outputs": [],
   "source": [
    "%matplotlib inline\n",
    "import scipy.stats\n",
    "import scipy.integrate as integrate\n",
    "import matplotlib.pyplot as plt\n",
    "import numpy as np\n",
    "from math import pi"
   ]
  },
  {
   "cell_type": "code",
   "execution_count": 2,
   "id": "909f85ae-0778-4862-a69a-63978ca081ac",
   "metadata": {},
   "outputs": [
    {
     "name": "stderr",
     "output_type": "stream",
     "text": [
      "<ipython-input-2-5e55ae226995>:1: RuntimeWarning: divide by zero encountered in true_divide\n",
      "  f = lambda x: 1/x/(np.exp(x)+1)\n",
      "<ipython-input-2-5e55ae226995>:2: RuntimeWarning: divide by zero encountered in true_divide\n",
      "  w = lambda x: 1/x\n"
     ]
    },
    {
     "data": {
      "image/png": "[encoded data removed]",
      "text/plain": [
       "<Figure size 432x288 with 1 Axes>"
      ]
     },
     "metadata": {
      "needs_background": "light"
     },
     "output_type": "display_data"
    }
   ],
   "source": [
    "f = lambda x: 1/x/(np.exp(x)+1)\n",
    "w = lambda x: 1/x\n",
    "\n",
    "\n",
    "\n",
    "x = np.linspace(0,1,100)\n",
    "plt.plot(x, f(x), label='f(x)')\n",
    "plt.plot(x, w(x), label='w(x)')\n",
    "\n",
    "plt.legend()\n",
    "plt.show()"
   ]
  },
  {
   "cell_type": "code",
   "execution_count": 3,
   "id": "870265f7-5f24-405d-8880-d3e20e6b33de",
   "metadata": {},
   "outputs": [
    {
     "name": "stdout",
     "output_type": "stream",
     "text": [
      "41.67684067538809\n"
     ]
    },
    {
     "name": "stderr",
     "output_type": "stream",
     "text": [
      "<ipython-input-3-6fbc0146dac9>:1: IntegrationWarning: The maximum number of subdivisions (50) has been achieved.\n",
      "  If increasing the limit yields no improvement it is advised to analyze \n",
      "  the integrand in order to determine the difficulties.  If the position of a \n",
      "  local difficulty can be determined (singularity, discontinuity) one will \n",
      "  probably gain from splitting up the interval and calling the integrator \n",
      "  on the subranges.  Perhaps a special-purpose integrator should be used.\n",
      "  integral, error = integrate.quad(lambda x: 1 / x, 0, 1)\n"
     ]
    }
   ],
   "source": [
    "integral, error = integrate.quad(lambda x: 1 / x, 0, 1)\n",
    "print(integral)"
   ]
  },
  {
   "cell_type": "code",
   "execution_count": 4,
   "id": "b2b3789b-d6bc-4f11-9ba6-211501c4b729",
   "metadata": {},
   "outputs": [
    {
     "name": "stdout",
     "output_type": "stream",
     "text": [
      "34.539776895244266\n"
     ]
    }
   ],
   "source": [
    "#use a value as close to 0 as possilbe that does not have an error\n",
    "integral, error = integrate.quad(lambda x: 1 / x, 9.99 * 10 ** (-16), 1)\n",
    "print(integral)"
   ]
  },
  {
   "cell_type": "code",
   "execution_count": 28,
   "id": "4e3f91a4-4972-45dc-87c5-7ef1af1c780a",
   "metadata": {},
   "outputs": [],
   "source": [
    "#p(x) from the equation in the lecture, applying as close to zero\n",
    "p = lambda x: 1/(x * log(x) - log(9.99 * 10 ** (-16)))"
   ]
  },
  {
   "cell_type": "code",
   "execution_count": 32,
   "id": "71f75958-4bdf-49e3-8160-171ee09257e2",
   "metadata": {},
   "outputs": [
    {
     "name": "stderr",
     "output_type": "stream",
     "text": [
      "<ipython-input-32-af6f848ca352>:3: IntegrationWarning: The maximum number of subdivisions (50) has been achieved.\n",
      "  If increasing the limit yields no improvement it is advised to analyze \n",
      "  the integrand in order to determine the difficulties.  If the position of a \n",
      "  local difficulty can be determined (singularity, discontinuity) one will \n",
      "  probably gain from splitting up the interval and calling the integrator \n",
      "  on the subranges.  Perhaps a special-purpose integrator should be used.\n",
      "  const = integrate.quad(w, 0, 1)[0]\n"
     ]
    },
    {
     "name": "stdout",
     "output_type": "stream",
     "text": [
      "20.5345821427595\n"
     ]
    }
   ],
   "source": [
    "from random import random\n",
    "def IMC(N):\n",
    "    const = integrate.quad(w, 0, 1)[0]\n",
    "    I = 0\n",
    "    for i in range(N):\n",
    "        x = random()\n",
    "        y = p(x)\n",
    "        I += f(y)/w(y)\n",
    "    return I/N*const\n",
    "\n",
    "print(IMC(1 * 10 ** (6)))"
   ]
  },
  {
   "cell_type": "code",
   "execution_count": 31,
   "id": "e47de067-4675-420b-b154-fda24e914c69",
   "metadata": {},
   "outputs": [
    {
     "name": "stdout",
     "output_type": "stream",
     "text": [
      "17.018080833641402\n"
     ]
    }
   ],
   "source": [
    "from random import random\n",
    "def IMC(N):\n",
    "    const = integrate.quad(w, 9.99 * 10 ** (-16), 1)[0]\n",
    "    I = 0\n",
    "    for i in range(N):\n",
    "        x = random()\n",
    "        y = p(x)\n",
    "        I += f(y)/w(y)\n",
    "    return I/N*const\n",
    "\n",
    "print(IMC(1 * 10**(6)))"
   ]
  },
  {
   "cell_type": "code",
   "execution_count": null,
   "id": "244ffa4c-46a2-4346-b5ad-09af72ddaf0e",
   "metadata": {},
   "outputs": [],
   "source": []
  }
 ],
 "metadata": {
  "kernelspec": {
   "display_name": "Python 3",
   "language": "python",
   "name": "python3"
  },
  "language_info": {
   "codemirror_mode": {
    "name": "ipython",
    "version": 3
   },
   "file_extension": ".py",
   "mimetype": "text/x-python",
   "name": "python",
   "nbconvert_exporter": "python",
   "pygments_lexer": "ipython3",
   "version": "3.8.8"
  }
 },
 "nbformat": 4,
 "nbformat_minor": 5
}
